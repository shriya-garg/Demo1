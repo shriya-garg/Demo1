{
  "nbformat": 4,
  "nbformat_minor": 0,
  "metadata": {
    "colab": {
      "name": "Neural_Network - Exploration.ipynb",
      "version": "0.3.2",
      "provenance": [],
      "collapsed_sections": [],
      "include_colab_link": true
    },
    "kernelspec": {
      "display_name": "Python 3",
      "language": "python",
      "name": "python3"
    }
  },
  "cells": [
    {
      "cell_type": "markdown",
      "metadata": {
        "id": "view-in-github",
        "colab_type": "text"
      },
      "source": [
        "<a href=\"https://colab.research.google.com/github/shriya-garg/Demo1/blob/master/Neural_Network_Exploration.ipynb\" target=\"_parent\"><img src=\"https://colab.research.google.com/assets/colab-badge.svg\" alt=\"Open In Colab\"/></a>"
      ]
    },
    {
      "metadata": {
        "id": "VEmcY8CdQPdC",
        "colab_type": "text"
      },
      "cell_type": "markdown",
      "source": [
        "# Part 1: Neural Network"
      ]
    },
    {
      "metadata": {
        "id": "dwKG11XOQPdD",
        "colab_type": "text"
      },
      "cell_type": "markdown",
      "source": [
        "### Importing libraries"
      ]
    },
    {
      "metadata": {
        "id": "IXFSvv7aQPdF",
        "colab_type": "code",
        "colab": {}
      },
      "cell_type": "code",
      "source": [
        "import warnings\n",
        "warnings.filterwarnings('ignore')\n",
        "\n",
        "import numpy as np\n",
        "import matplotlib.pyplot as plt\n",
        "import keras\n",
        "from keras.datasets import mnist\n",
        "from keras.models import Sequential,model_from_json\n",
        "from keras.layers import Dense\n",
        "from keras.optimizers import RMSprop\n",
        "import pylab as plt"
      ],
      "execution_count": 0,
      "outputs": []
    },
    {
      "metadata": {
        "id": "c6x8vXbIQPdL",
        "colab_type": "text"
      },
      "cell_type": "markdown",
      "source": [
        "#### Keras is the deep learning library that helps you to code Deep Neural Networks with fewer lines of code "
      ]
    },
    {
      "metadata": {
        "id": "DiViNaXzQPdL",
        "colab_type": "text"
      },
      "cell_type": "markdown",
      "source": [
        "### Import data"
      ]
    },
    {
      "metadata": {
        "id": "tdLUK6NwQPdM",
        "colab_type": "code",
        "outputId": "52161ea1-ea82-469d-e8d1-356de53b72c8",
        "colab": {
          "base_uri": "https://localhost:8080/",
          "height": 51
        }
      },
      "cell_type": "code",
      "source": [
        "batch_size = 128\n",
        "num_classes = 10\n",
        "epochs = 10\n",
        "\n",
        "# the data, split between train and test sets\n",
        "(x_train, y_train), (x_test, y_test) = mnist.load_data()\n",
        "\n",
        "x_train = x_train.reshape(60000, 784)\n",
        "x_test = x_test.reshape(10000, 784)\n",
        "x_train = x_train.astype('float32')\n",
        "x_test = x_test.astype('float32')\n",
        "\n",
        "# Normalize to 0 to 1 range\n",
        "x_train /= 255\n",
        "x_test /= 255\n",
        "\n",
        "print(x_train.shape[0], 'train samples')\n",
        "print(x_test.shape[0], 'test samples')\n",
        "# convert class vectors to binary class matrices\n",
        "y_train = keras.utils.to_categorical(y_train, num_classes)\n",
        "y_test = keras.utils.to_categorical(y_test, num_classes)"
      ],
      "execution_count": 0,
      "outputs": [
        {
          "output_type": "stream",
          "text": [
            "60000 train samples\n",
            "10000 test samples\n"
          ],
          "name": "stdout"
        }
      ]
    },
    {
      "metadata": {
        "id": "9MoJwOW0QPdP",
        "colab_type": "text"
      },
      "cell_type": "markdown",
      "source": [
        "### Design a model"
      ]
    },
    {
      "metadata": {
        "scrolled": true,
        "id": "qV9e6UEIQPdQ",
        "colab_type": "code",
        "outputId": "4851c948-f039-4a92-c0bc-a282122e8dcc",
        "colab": {
          "base_uri": "https://localhost:8080/",
          "height": 272
        }
      },
      "cell_type": "code",
      "source": [
        "first_layer_size = 64\n",
        "model = Sequential()\n",
        "model.add(Dense(first_layer_size, activation='sigmoid', input_shape=(784,)))\n",
        "model.add(Dense(64, activation='tanh'))\n",
        "model.add(Dense(64, activation='relu'))\n",
        "model.add(Dense(num_classes, activation='softmax'))\n",
        "\n",
        "model.summary()"
      ],
      "execution_count": 0,
      "outputs": [
        {
          "output_type": "stream",
          "text": [
            "_________________________________________________________________\n",
            "Layer (type)                 Output Shape              Param #   \n",
            "=================================================================\n",
            "dense_39 (Dense)             (None, 64)                50240     \n",
            "_________________________________________________________________\n",
            "dense_40 (Dense)             (None, 64)                4160      \n",
            "_________________________________________________________________\n",
            "dense_41 (Dense)             (None, 64)                4160      \n",
            "_________________________________________________________________\n",
            "dense_42 (Dense)             (None, 10)                650       \n",
            "=================================================================\n",
            "Total params: 59,210\n",
            "Trainable params: 59,210\n",
            "Non-trainable params: 0\n",
            "_________________________________________________________________\n"
          ],
          "name": "stdout"
        }
      ]
    },
    {
      "metadata": {
        "id": "0-de5--6QPdT",
        "colab_type": "text"
      },
      "cell_type": "markdown",
      "source": [
        "### Weights before Training"
      ]
    },
    {
      "metadata": {
        "id": "1LLTNDBfVGtj",
        "colab_type": "text"
      },
      "cell_type": "markdown",
      "source": [
        ""
      ]
    },
    {
      "metadata": {
        "id": "X5A7LEbtQPdT",
        "colab_type": "text"
      },
      "cell_type": "markdown",
      "source": [
        "### Compiling a Model"
      ]
    },
    {
      "metadata": {
        "scrolled": false,
        "id": "NusGgmnEQPdU",
        "colab_type": "code",
        "colab": {}
      },
      "cell_type": "code",
      "source": [
        "model.compile(loss='categorical_crossentropy',\n",
        "              optimizer=RMSprop(),\n",
        "              metrics=['accuracy'])"
      ],
      "execution_count": 0,
      "outputs": []
    },
    {
      "metadata": {
        "id": "VwJuxs1ZVP8K",
        "colab_type": "text"
      },
      "cell_type": "markdown",
      "source": [
        ""
      ]
    },
    {
      "metadata": {
        "id": "MU0etoNJQPdW",
        "colab_type": "text"
      },
      "cell_type": "markdown",
      "source": [
        "### Training"
      ]
    },
    {
      "metadata": {
        "id": "LuUD7eAxVQGc",
        "colab_type": "text"
      },
      "cell_type": "markdown",
      "source": [
        ""
      ]
    },
    {
      "metadata": {
        "id": "ktk8pX5SQPdX",
        "colab_type": "code",
        "outputId": "1e5919d9-c25e-4552-e76f-d174d741ab02",
        "colab": {
          "base_uri": "https://localhost:8080/",
          "height": 377
        }
      },
      "cell_type": "code",
      "source": [
        "# Write the Training input and output variables, size of the batch, number of epochs\n",
        "history = model.fit(x_train,y_train,\n",
        "                    batch_size=batch_size,\n",
        "                    epochs=epochs,\n",
        "                    verbose=1)"
      ],
      "execution_count": 0,
      "outputs": [
        {
          "output_type": "stream",
          "text": [
            "Epoch 1/10\n",
            "60000/60000 [==============================] - 2s 41us/step - loss: 0.4914 - acc: 0.8679\n",
            "Epoch 2/10\n",
            "60000/60000 [==============================] - 2s 31us/step - loss: 0.2247 - acc: 0.9326\n",
            "Epoch 3/10\n",
            "60000/60000 [==============================] - 2s 30us/step - loss: 0.1709 - acc: 0.9485\n",
            "Epoch 4/10\n",
            "60000/60000 [==============================] - 2s 30us/step - loss: 0.1391 - acc: 0.9581\n",
            "Epoch 5/10\n",
            "60000/60000 [==============================] - 2s 29us/step - loss: 0.1156 - acc: 0.9641\n",
            "Epoch 6/10\n",
            "60000/60000 [==============================] - 2s 28us/step - loss: 0.0999 - acc: 0.9693\n",
            "Epoch 7/10\n",
            "60000/60000 [==============================] - 2s 28us/step - loss: 0.0884 - acc: 0.9729\n",
            "Epoch 8/10\n",
            "60000/60000 [==============================] - 2s 30us/step - loss: 0.0774 - acc: 0.9761\n",
            "Epoch 9/10\n",
            "60000/60000 [==============================] - 2s 31us/step - loss: 0.0702 - acc: 0.9780\n",
            "Epoch 10/10\n",
            "60000/60000 [==============================] - 2s 30us/step - loss: 0.0631 - acc: 0.9803\n"
          ],
          "name": "stdout"
        }
      ]
    },
    {
      "metadata": {
        "id": "6rHWcD-qQPda",
        "colab_type": "text"
      },
      "cell_type": "markdown",
      "source": [
        "### Testing"
      ]
    },
    {
      "metadata": {
        "id": "Y8-v2wfCQPdb",
        "colab_type": "code",
        "outputId": "b8a5769f-8897-48a4-bd81-b083c7c6dfec",
        "colab": {
          "base_uri": "https://localhost:8080/",
          "height": 51
        }
      },
      "cell_type": "code",
      "source": [
        "# Write the testing input and output variables\n",
        "score = model.evaluate(x_test, y_test, verbose=0)\n",
        "print('Test loss:', score[0])\n",
        "print('Test accuracy:', score[1])"
      ],
      "execution_count": 0,
      "outputs": [
        {
          "output_type": "stream",
          "text": [
            "Test loss: 0.09311984387221746\n",
            "Test accuracy: 0.9734\n"
          ],
          "name": "stdout"
        }
      ]
    },
    {
      "metadata": {
        "id": "aj1_jBE-WtdM",
        "colab_type": "code",
        "colab": {}
      },
      "cell_type": "code",
      "source": [
        ""
      ],
      "execution_count": 0,
      "outputs": []
    },
    {
      "metadata": {
        "id": "Y62DFZbDQPde",
        "colab_type": "code",
        "outputId": "622a69e5-09ae-47bd-a2e2-cec32b9bb42c",
        "colab": {
          "base_uri": "https://localhost:8080/",
          "height": 119
        }
      },
      "cell_type": "code",
      "source": [
        "# Write the index of the test sample to test\n",
        "prediction = model.predict(x_test[5789:5790])\n",
        "prediction = prediction[0]\n",
        "print('Prediction\\n',prediction)\n",
        "print('\\nThresholded output\\n',(prediction>0.5)*1)"
      ],
      "execution_count": 0,
      "outputs": [
        {
          "output_type": "stream",
          "text": [
            "Prediction\n",
            " [3.8159014e-09 1.6545781e-06 7.0831360e-05 4.1052399e-06 1.1082763e-07\n",
            " 1.7455233e-07 4.5496600e-11 9.9992132e-01 2.6111431e-07 1.6999079e-06]\n",
            "\n",
            "Thresholded output\n",
            " [0 0 0 0 0 0 0 1 0 0]\n"
          ],
          "name": "stdout"
        }
      ]
    }
  ]
}